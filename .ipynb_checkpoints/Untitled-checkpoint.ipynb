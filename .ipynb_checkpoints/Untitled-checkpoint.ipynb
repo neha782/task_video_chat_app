{
 "cells": [
  {
   "cell_type": "code",
   "execution_count": 11,
   "id": "6212a709",
   "metadata": {},
   "outputs": [],
   "source": [
    "# at server\n",
    "import socket\n",
    "import threading\n",
    "import cv2"
   ]
  },
  {
   "cell_type": "code",
   "execution_count": 12,
   "id": "89181d64",
   "metadata": {},
   "outputs": [],
   "source": [
    "server_socket = socket.socket()#socket.AF_INET, socket.SOCK_STREAM)\n"
   ]
  },
  {
   "cell_type": "code",
   "execution_count": 13,
   "id": "32694323",
   "metadata": {},
   "outputs": [],
   "source": [
    "server_port = 4455"
   ]
  },
  {
   "cell_type": "code",
   "execution_count": 14,
   "id": "9cc8a361",
   "metadata": {},
   "outputs": [],
   "source": [
    "server_ip = \"\""
   ]
  },
  {
   "cell_type": "code",
   "execution_count": 15,
   "id": "da61ada4",
   "metadata": {
    "scrolled": true
   },
   "outputs": [
    {
     "ename": "OSError",
     "evalue": "[WinError 10048] Only one usage of each socket address (protocol/network address/port) is normally permitted",
     "output_type": "error",
     "traceback": [
      "\u001b[1;31m---------------------------------------------------------------------------\u001b[0m",
      "\u001b[1;31mOSError\u001b[0m                                   Traceback (most recent call last)",
      "\u001b[1;32m<ipython-input-15-477ea588ab03>\u001b[0m in \u001b[0;36m<module>\u001b[1;34m\u001b[0m\n\u001b[1;32m----> 1\u001b[1;33m \u001b[0mserver_socket\u001b[0m\u001b[1;33m.\u001b[0m\u001b[0mbind\u001b[0m\u001b[1;33m(\u001b[0m\u001b[1;33m(\u001b[0m\u001b[0mserver_ip\u001b[0m\u001b[1;33m,\u001b[0m \u001b[0mserver_port\u001b[0m\u001b[1;33m)\u001b[0m\u001b[1;33m)\u001b[0m\u001b[1;33m\u001b[0m\u001b[1;33m\u001b[0m\u001b[0m\n\u001b[0m",
      "\u001b[1;31mOSError\u001b[0m: [WinError 10048] Only one usage of each socket address (protocol/network address/port) is normally permitted"
     ]
    }
   ],
   "source": [
    "server_socket.bind((server_ip, server_port))\n",
    "server_socket.listen()"
   ]
  },
  {
   "cell_type": "code",
   "execution_count": 6,
   "id": "5a605c3e",
   "metadata": {},
   "outputs": [],
   "source": [
    "capture = cv2.VideoCapture(0)"
   ]
  },
  {
   "cell_type": "code",
   "execution_count": 7,
   "id": "63ab3683",
   "metadata": {},
   "outputs": [
    {
     "data": {
      "text/plain": [
       "'# ready for accepting connections\\n#server_socket.listen()\\n#def client_request(session, client_addr):\\n #   print(client_addr)\\n  #  session.send(fram)\\n   # data = session.recv(10000000)\\n    #print(data)\\n    \\nwhile True:\\n    session, client_addr = server_socket.accept()\\n    ret, fram = capture.read()\\n    cv2.imshow(\"video_chat\", fram)\\n    if cv2.waitKey(20)==13:\\n        break\\n    #thread = threading.Thread(target = client_request, args = (session, client_addr))\\n    #thread.start()\\ncv2.destroyAllWindows()'"
      ]
     },
     "execution_count": 7,
     "metadata": {},
     "output_type": "execute_result"
    }
   ],
   "source": [
    "# ready for accepting connections\n",
    "#server_socket.listen()\n",
    "#def client_request(session, client_addr):\n",
    " #   print(client_addr)\n",
    "  #  session.send(fram)\n",
    "   # data = session.recv(10000000)\n",
    "    #print(data)\n",
    "    \n",
    "#while True:\n",
    " #   session, client_addr = server_socket.accept()\n",
    "  #  ret, fram = capture.read()\n",
    "   # cv2.imshow(\"video_chat\", fram)\n",
    "    #if cv2.waitKey(20)==13:\n",
    "     #   break\n",
    "    #thread = threading.Thread(target = client_request, args = (session, client_addr))\n",
    "    #thread.start()\n",
    "#cv2.destroyAllWindows()'''\n"
   ]
  },
  {
   "cell_type": "code",
   "execution_count": 8,
   "id": "f76a00f2",
   "metadata": {},
   "outputs": [],
   "source": [
    "ret, photo = capture.read()\n"
   ]
  },
  {
   "cell_type": "code",
   "execution_count": 9,
   "id": "aa3938df",
   "metadata": {},
   "outputs": [],
   "source": []
  },
  {
   "cell_type": "raw",
   "id": "68615cff",
   "metadata": {},
   "source": []
  },
  {
   "cell_type": "code",
   "execution_count": 10,
   "id": "0c557c50",
   "metadata": {},
   "outputs": [
    {
     "ename": "OSError",
     "evalue": "[WinError 10022] An invalid argument was supplied",
     "output_type": "error",
     "traceback": [
      "\u001b[1;31m---------------------------------------------------------------------------\u001b[0m",
      "\u001b[1;31mOSError\u001b[0m                                   Traceback (most recent call last)",
      "\u001b[1;32m<ipython-input-10-c57154c2ca27>\u001b[0m in \u001b[0;36m<module>\u001b[1;34m\u001b[0m\n\u001b[1;32m----> 1\u001b[1;33m \u001b[0mclient\u001b[0m\u001b[1;33m,\u001b[0m \u001b[0maddr\u001b[0m \u001b[1;33m=\u001b[0m \u001b[0mserver_socket\u001b[0m\u001b[1;33m.\u001b[0m\u001b[0maccept\u001b[0m\u001b[1;33m(\u001b[0m\u001b[1;33m)\u001b[0m\u001b[1;33m\u001b[0m\u001b[1;33m\u001b[0m\u001b[0m\n\u001b[0m",
      "\u001b[1;32mC:\\Users\\nehaarya\\anaconda3\\anaconda3_install\\lib\\socket.py\u001b[0m in \u001b[0;36maccept\u001b[1;34m(self)\u001b[0m\n\u001b[0;32m    290\u001b[0m         \u001b[0mFor\u001b[0m \u001b[0mIP\u001b[0m \u001b[0msockets\u001b[0m\u001b[1;33m,\u001b[0m \u001b[0mthe\u001b[0m \u001b[0maddress\u001b[0m \u001b[0minfo\u001b[0m \u001b[1;32mis\u001b[0m \u001b[0ma\u001b[0m \u001b[0mpair\u001b[0m \u001b[1;33m(\u001b[0m\u001b[0mhostaddr\u001b[0m\u001b[1;33m,\u001b[0m \u001b[0mport\u001b[0m\u001b[1;33m)\u001b[0m\u001b[1;33m.\u001b[0m\u001b[1;33m\u001b[0m\u001b[1;33m\u001b[0m\u001b[0m\n\u001b[0;32m    291\u001b[0m         \"\"\"\n\u001b[1;32m--> 292\u001b[1;33m         \u001b[0mfd\u001b[0m\u001b[1;33m,\u001b[0m \u001b[0maddr\u001b[0m \u001b[1;33m=\u001b[0m \u001b[0mself\u001b[0m\u001b[1;33m.\u001b[0m\u001b[0m_accept\u001b[0m\u001b[1;33m(\u001b[0m\u001b[1;33m)\u001b[0m\u001b[1;33m\u001b[0m\u001b[1;33m\u001b[0m\u001b[0m\n\u001b[0m\u001b[0;32m    293\u001b[0m         \u001b[0msock\u001b[0m \u001b[1;33m=\u001b[0m \u001b[0msocket\u001b[0m\u001b[1;33m(\u001b[0m\u001b[0mself\u001b[0m\u001b[1;33m.\u001b[0m\u001b[0mfamily\u001b[0m\u001b[1;33m,\u001b[0m \u001b[0mself\u001b[0m\u001b[1;33m.\u001b[0m\u001b[0mtype\u001b[0m\u001b[1;33m,\u001b[0m \u001b[0mself\u001b[0m\u001b[1;33m.\u001b[0m\u001b[0mproto\u001b[0m\u001b[1;33m,\u001b[0m \u001b[0mfileno\u001b[0m\u001b[1;33m=\u001b[0m\u001b[0mfd\u001b[0m\u001b[1;33m)\u001b[0m\u001b[1;33m\u001b[0m\u001b[1;33m\u001b[0m\u001b[0m\n\u001b[0;32m    294\u001b[0m         \u001b[1;31m# Issue #7995: if no default timeout is set and the listening\u001b[0m\u001b[1;33m\u001b[0m\u001b[1;33m\u001b[0m\u001b[1;33m\u001b[0m\u001b[0m\n",
      "\u001b[1;31mOSError\u001b[0m: [WinError 10022] An invalid argument was supplied"
     ]
    }
   ],
   "source": [
    "client, addr = server_socket.accept()"
   ]
  },
  {
   "cell_type": "code",
   "execution_count": null,
   "id": "1970fcd5",
   "metadata": {},
   "outputs": [],
   "source": [
    "client.send(\"photo\")\n",
    "data= client.recv(100000000)\n",
    "cv2.imshow(\"image\", data)\n",
    "cv2.waitKey(10)\n",
    "cv2.destroyAllWindows()\n"
   ]
  },
  {
   "cell_type": "code",
   "execution_count": null,
   "id": "48ca5eab",
   "metadata": {},
   "outputs": [],
   "source": [
    "capture.release()"
   ]
  },
  {
   "cell_type": "code",
   "execution_count": null,
   "id": "218e2be1",
   "metadata": {},
   "outputs": [],
   "source": []
  },
  {
   "cell_type": "code",
   "execution_count": null,
   "id": "c35e8e4d",
   "metadata": {},
   "outputs": [],
   "source": []
  },
  {
   "cell_type": "code",
   "execution_count": null,
   "id": "3f246682",
   "metadata": {},
   "outputs": [],
   "source": []
  },
  {
   "cell_type": "code",
   "execution_count": null,
   "id": "2589e53c",
   "metadata": {},
   "outputs": [],
   "source": []
  },
  {
   "cell_type": "code",
   "execution_count": null,
   "id": "9f6573a1",
   "metadata": {},
   "outputs": [],
   "source": []
  },
  {
   "cell_type": "code",
   "execution_count": null,
   "id": "7d701cb2",
   "metadata": {},
   "outputs": [],
   "source": []
  },
  {
   "cell_type": "code",
   "execution_count": null,
   "id": "c20679e8",
   "metadata": {},
   "outputs": [],
   "source": []
  }
 ],
 "metadata": {
  "kernelspec": {
   "display_name": "Python 3",
   "language": "python",
   "name": "python3"
  },
  "language_info": {
   "codemirror_mode": {
    "name": "ipython",
    "version": 3
   },
   "file_extension": ".py",
   "mimetype": "text/x-python",
   "name": "python",
   "nbconvert_exporter": "python",
   "pygments_lexer": "ipython3",
   "version": "3.8.8"
  }
 },
 "nbformat": 4,
 "nbformat_minor": 5
}
