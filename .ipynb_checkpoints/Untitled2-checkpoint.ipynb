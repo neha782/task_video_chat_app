{
 "cells": [
  {
   "cell_type": "code",
   "execution_count": 28,
   "id": "da76fc9a",
   "metadata": {},
   "outputs": [],
   "source": [
    "# client\n",
    "import socket"
   ]
  },
  {
   "cell_type": "code",
   "execution_count": 29,
   "id": "6542157f",
   "metadata": {},
   "outputs": [],
   "source": [
    "client_socket = socket.socket()"
   ]
  },
  {
   "cell_type": "code",
   "execution_count": 30,
   "id": "05656196",
   "metadata": {},
   "outputs": [],
   "source": [
    "server_ip = \"192.168.102.190\""
   ]
  },
  {
   "cell_type": "code",
   "execution_count": 31,
   "id": "e4cde878",
   "metadata": {},
   "outputs": [],
   "source": [
    "server_port = 2255"
   ]
  },
  {
   "cell_type": "code",
   "execution_count": 32,
   "id": "9feb6ad3",
   "metadata": {},
   "outputs": [],
   "source": [
    "client_socket.connect((server_ip, server_port))\n"
   ]
  },
  {
   "cell_type": "code",
   "execution_count": null,
   "id": "cdd56dcb",
   "metadata": {},
   "outputs": [],
   "source": [
    "while True:\n",
    "    image = client_socket.recv(1000000)\n",
    "    image = cv2.imdecode(image, cv2.IMREAD_COLOR)\n",
    "    cv2.imshow(\"video\", image)\n",
    "    if cv2.waitKey(10) == 13:\n",
    "        break\n",
    "cv2.destroyAllWindows()\n"
   ]
  },
  {
   "cell_type": "code",
   "execution_count": null,
   "id": "e9a5a682",
   "metadata": {},
   "outputs": [],
   "source": []
  },
  {
   "cell_type": "code",
   "execution_count": null,
   "id": "6d5931db",
   "metadata": {},
   "outputs": [],
   "source": []
  },
  {
   "cell_type": "code",
   "execution_count": null,
   "id": "e82eeb2d",
   "metadata": {},
   "outputs": [],
   "source": []
  }
 ],
 "metadata": {
  "kernelspec": {
   "display_name": "Python 3",
   "language": "python",
   "name": "python3"
  },
  "language_info": {
   "codemirror_mode": {
    "name": "ipython",
    "version": 3
   },
   "file_extension": ".py",
   "mimetype": "text/x-python",
   "name": "python",
   "nbconvert_exporter": "python",
   "pygments_lexer": "ipython3",
   "version": "3.8.8"
  }
 },
 "nbformat": 4,
 "nbformat_minor": 5
}
