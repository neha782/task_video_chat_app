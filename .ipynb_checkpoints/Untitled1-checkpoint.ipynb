{
 "cells": [
  {
   "cell_type": "code",
   "execution_count": 1,
   "id": "72e8ac2c",
   "metadata": {},
   "outputs": [],
   "source": [
    "import socket \n",
    "import threading\n",
    "import cv2"
   ]
  },
  {
   "cell_type": "code",
   "execution_count": 2,
   "id": "673b0f38",
   "metadata": {},
   "outputs": [],
   "source": [
    "server_socket = socket.socket()"
   ]
  },
  {
   "cell_type": "code",
   "execution_count": 3,
   "id": "c4079326",
   "metadata": {},
   "outputs": [],
   "source": [
    "server_socket.setsockopt(socket.SOL_SOCKET, socket.SO_REUSEADDR,1)"
   ]
  },
  {
   "cell_type": "code",
   "execution_count": 4,
   "id": "2d8489d7",
   "metadata": {},
   "outputs": [],
   "source": [
    "server_port = 2255"
   ]
  },
  {
   "cell_type": "code",
   "execution_count": 5,
   "id": "1caef512",
   "metadata": {},
   "outputs": [],
   "source": [
    "server_ip = \"\""
   ]
  },
  {
   "cell_type": "code",
   "execution_count": 6,
   "id": "7083bcb4",
   "metadata": {},
   "outputs": [],
   "source": [
    "server_socket.bind((server_ip, server_port))"
   ]
  },
  {
   "cell_type": "code",
   "execution_count": 7,
   "id": "1cc41e8b",
   "metadata": {},
   "outputs": [],
   "source": [
    "server_socket.listen()\n"
   ]
  },
  {
   "cell_type": "code",
   "execution_count": 8,
   "id": "d7f53747",
   "metadata": {},
   "outputs": [],
   "source": [
    "cap = cv2.VideoCapture(0)"
   ]
  },
  {
   "cell_type": "code",
   "execution_count": null,
   "id": "21224ad4",
   "metadata": {},
   "outputs": [],
   "source": []
  },
  {
   "cell_type": "code",
   "execution_count": null,
   "id": "d3c26c13",
   "metadata": {},
   "outputs": [
    {
     "name": "stdout",
     "output_type": "stream",
     "text": [
      "('192.168.102.190', 53688)\n"
     ]
    },
    {
     "name": "stderr",
     "output_type": "stream",
     "text": [
      "Exception in thread Thread-6:\n",
      "Traceback (most recent call last):\n",
      "  File \"C:\\Users\\nehaarya\\anaconda3\\anaconda3_install\\lib\\threading.py\", line 932, in _bootstrap_inner\n",
      "    self.run()\n",
      "  File \"C:\\Users\\nehaarya\\anaconda3\\anaconda3_install\\lib\\threading.py\", line 870, in run\n",
      "    self._target(*self._args, **self._kwargs)\n",
      "  File \"<ipython-input-9-a04f27a44893>\", line 5, in sender\n",
      "TypeError: a bytes-like object is required, not 'tuple'\n"
     ]
    }
   ],
   "source": [
    "def sender(session, addr):\n",
    "    print(addr)\n",
    "    ret, image = cap.read()\n",
    "    image = cv2.imencode(\".jpg\", image)\n",
    "    session.send(image)\n",
    "    data = session.recv(1000000)\n",
    "    print(data)\n",
    "    \n",
    "    \n",
    "while True:\n",
    "    session, addr = server_socket.accept()\n",
    "    t1 = threading.Thread(target = sender, args = (session, addr))\n",
    "    t1.start()"
   ]
  },
  {
   "cell_type": "code",
   "execution_count": null,
   "id": "1c565fb5",
   "metadata": {},
   "outputs": [],
   "source": [
    "server_socket.close()"
   ]
  },
  {
   "cell_type": "code",
   "execution_count": null,
   "id": "d5715bc0",
   "metadata": {},
   "outputs": [],
   "source": []
  }
 ],
 "metadata": {
  "kernelspec": {
   "display_name": "Python 3",
   "language": "python",
   "name": "python3"
  },
  "language_info": {
   "codemirror_mode": {
    "name": "ipython",
    "version": 3
   },
   "file_extension": ".py",
   "mimetype": "text/x-python",
   "name": "python",
   "nbconvert_exporter": "python",
   "pygments_lexer": "ipython3",
   "version": "3.8.8"
  }
 },
 "nbformat": 4,
 "nbformat_minor": 5
}
